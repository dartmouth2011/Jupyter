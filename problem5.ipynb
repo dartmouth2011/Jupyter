{
 "cells": [
  {
   "cell_type": "code",
   "execution_count": 1,
   "metadata": {},
   "outputs": [
    {
     "data": {
      "application/javascript": [
       "require.undef(\"nbextensions/vpython_libraries/glow.min\");"
      ],
      "text/plain": [
       "<IPython.core.display.Javascript object>"
      ]
     },
     "metadata": {},
     "output_type": "display_data"
    },
    {
     "data": {
      "application/javascript": [
       "require.undef(\"nbextensions/vpython_libraries/glowcomm\");"
      ],
      "text/plain": [
       "<IPython.core.display.Javascript object>"
      ]
     },
     "metadata": {},
     "output_type": "display_data"
    },
    {
     "data": {
      "application/javascript": [
       "require.undef(\"nbextensions/vpython_libraries/jquery-ui.custom.min\");"
      ],
      "text/plain": [
       "<IPython.core.display.Javascript object>"
      ]
     },
     "metadata": {},
     "output_type": "display_data"
    },
    {
     "data": {
      "application/javascript": [
       "require([\"nbextensions/vpython_libraries/glow.min\"], function(){console.log(\"GLOW LOADED\");})"
      ],
      "text/plain": [
       "<IPython.core.display.Javascript object>"
      ]
     },
     "metadata": {},
     "output_type": "display_data"
    },
    {
     "data": {
      "application/javascript": [
       "require([\"nbextensions/vpython_libraries/glowcomm\"], function(){console.log(\"GLOWCOMM LOADED\");})"
      ],
      "text/plain": [
       "<IPython.core.display.Javascript object>"
      ]
     },
     "metadata": {},
     "output_type": "display_data"
    },
    {
     "data": {
      "application/javascript": [
       "require([\"nbextensions/vpython_libraries/jquery-ui.custom.min\"], function(){console.log(\"JQUERY LOADED\");})"
      ],
      "text/plain": [
       "<IPython.core.display.Javascript object>"
      ]
     },
     "metadata": {},
     "output_type": "display_data"
    },
    {
     "data": {
      "text/html": [
       "<div id=\"glowscript\" class=\"glowscript\"></div>"
      ],
      "text/plain": [
       "<IPython.core.display.HTML object>"
      ]
     },
     "metadata": {},
     "output_type": "display_data"
    },
    {
     "data": {
      "application/javascript": [
       "window.__context = { glowscript_container: $(\"#glowscript\").removeAttr(\"id\")}"
      ],
      "text/plain": [
       "<IPython.core.display.Javascript object>"
      ]
     },
     "metadata": {},
     "output_type": "display_data"
    }
   ],
   "source": [
    "from vpython import *"
   ]
  },
  {
   "cell_type": "code",
   "execution_count": 2,
   "metadata": {},
   "outputs": [],
   "source": [
    "# initialize all of the parts of the box & the ball\n",
    "ball = sphere(pos = vector(-5,0,0),radius = 0.5,color = color.cyan)\n",
    "ball.trail = curve(color = ball.color)\n",
    "wallR = box(pos = vector(6,0,0),size = vector(0.2,12,12),color = color.green)\n",
    "wallL = box(pos = vector(-6,0,0,),size = vector(0.2,12,12),color = color.green)\n",
    "wallT = box(pos = vector(0,6,0),size = vector(12,0.2,12),color = color.blue)\n",
    "wallB = box(pos = vector(0,-6,0),size = vector(12,0.2,12),color = color.blue)\n",
    "wallBack = box(pos = vector(0,0,-6),size = vector(12,12,0.2),color = color.red)\n",
    "# initialize the velocity and accelaration of the ball\n",
    "ball.velocity = vector(25,5,15)\n",
    "ball.accel = vector(0,-9.8,0) # this is gravity, -9.8 m/s in y axis\n",
    "deltat = 0.005\n",
    "t = 0\n",
    "vscale = 0.1\n",
    "varr = arrow(pos = ball.pos,axis = vscale*ball.velocity, color=color.yellow)\n",
    "\n",
    "# explained in tutorial\n",
    "scene.autoscale = False\n",
    "\n",
    "#while loop that controls box simulation\n",
    "while t < 30: # while time is less than 30 seconds\n",
    "    rate(100) # explained in tutorial\n",
    "    if ball.pos.x > wallR.pos.x:\n",
    "        ball.velocity.x = -ball.velocity.x\n",
    "    if ball.pos.x < wallL.pos.x:\n",
    "        ball.velocity.x = -ball.velocity.x\n",
    "    if ball.pos.y < wallB.pos.y:\n",
    "        ball.velocity.y = -ball.velocity.y\n",
    "    if ball.pos.y > wallT.pos.y:\n",
    "        ball.velocity.y = -ball.velocity.y\n",
    "    if ball.pos.z < wallBack.pos.z:\n",
    "        ball.velocity.z = -ball.velocity.z\n",
    "    if ball.pos.z > 6:\n",
    "        ball.velocity.z = -ball.velocity.z\n",
    "    ball.pos = ball.pos + ball.velocity*deltat\n",
    "    ball.trail.append(pos = ball.pos)\n",
    "    varr.pos = ball.pos\n",
    "    varr.axis = vscale*ball.velocity\n",
    "    ball.velocity = ball.velocity + ball.accel*deltat\n",
    "    t = t + deltat"
   ]
  },
  {
   "cell_type": "code",
   "execution_count": null,
   "metadata": {},
   "outputs": [],
   "source": []
  },
  {
   "cell_type": "code",
   "execution_count": null,
   "metadata": {},
   "outputs": [],
   "source": []
  }
 ],
 "metadata": {
  "kernelspec": {
   "display_name": "VPython",
   "language": "python",
   "name": "vpython"
  },
  "language_info": {
   "codemirror_mode": {
    "name": "ipython",
    "version": 3
   },
   "file_extension": ".py",
   "mimetype": "text/x-python",
   "name": "python",
   "nbconvert_exporter": "python",
   "pygments_lexer": "ipython3",
   "version": "3.6.6"
  }
 },
 "nbformat": 4,
 "nbformat_minor": 2
}
